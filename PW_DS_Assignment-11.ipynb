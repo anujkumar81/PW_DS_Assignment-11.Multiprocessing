{
 "cells": [
  {
   "cell_type": "code",
   "execution_count": null,
   "id": "f7cb162f-8f52-4702-98b5-460ff1f02838",
   "metadata": {},
   "outputs": [],
   "source": [
    "# Queston 1:\n",
    "\"\"\"What is multiprocessing in python? Why is it useful?\"\"\"\n",
    "# Answer:\n",
    "'''Multiprocessing in Python is a way to run multiple processes simultaneously. A process is a program in execution. Each process has its own memory space, so they can run independently of each other. This can be useful for tasks that are CPU-intensive, such as image processing or video encoding.'''\n",
    "# using multiprocessing in Python:\n",
    "\"\"\"It can speed up the execution of your code by running multiple tasks at the same time.\n",
    "It can free up the main thread to do other tasks, such as handling user input.\n",
    "It can be used to parallelize tasks that can be broken down into smaller, independent units.\n",
    "It can be used to run tasks on multiple cores or machines.\"\"\""
   ]
  },
  {
   "cell_type": "code",
   "execution_count": null,
   "id": "115ea791-8188-4727-b3d3-84ccfacef2b4",
   "metadata": {},
   "outputs": [],
   "source": []
  },
  {
   "cell_type": "code",
   "execution_count": null,
   "id": "7c304c07-5435-4d57-afdb-50f96e16765c",
   "metadata": {},
   "outputs": [],
   "source": [
    "# Queston 2:\n",
    "\"\"\"What are the differences between multiprocessing and multithreading?\"\"\"\n",
    "# Answer:\n",
    "\n",
    "#Processes vs. Threads:\n",
    "'''Multiprocessing: In multiprocessing, multiple processes are created, each with its own memory space and Python interpreter. Processes run independently and can execute different parts of a program concurrently. They are isolated from each other, meaning that one process crashing usually won't affect the others.\n",
    "Multithreading: In multithreading, multiple threads are created within a single process, sharing the same memory space and Python interpreter. Threads run within the context of a process and share resources like memory. However, due to the Global Interpreter Lock (GIL) in CPython (the standard Python interpreter), only one thread in a process can execute Python bytecode at a time, limiting the parallelism that threads can achieve in CPU-bound tasks.'''\n",
    "\n",
    "#Resource Overhead:\n",
    "'''Multiprocessing: Creating and managing processes is typically more resource-intensive than threads. Each process has its own memory space and interpreter, which can result in higher memory usage and startup overhead.\n",
    "Multithreading: Threads within the same process share memory, which can lead to lower memory overhead compared to processes. However, thread creation and management are generally lighter-weight compared to processes.'''\n",
    "\n",
    "#Parallelism:\n",
    "'''Multiprocessing: Since processes run in separate memory spaces, they can fully utilize multiple CPU cores, providing true parallelism. This is beneficial for CPU-bound tasks.\n",
    "Multithreading: Due to the GIL in CPython, multithreading is less effective at achieving true parallelism for CPU-bound tasks. However, it can still be useful for I/O-bound tasks, where threads can perform I/O operations concurrently while waiting for external resources.'''\n",
    "\n",
    "#Communication and Synchronization:\n",
    "'''Multiprocessing: Processes communicate using inter-process communication (IPC) mechanisms such as queues, pipes, and shared memory. Synchronization between processes is necessary to avoid data corruption and race conditions.\n",
    "Multithreading: Threads within the same process share memory, making communication between threads easier. However, proper synchronization mechanisms like locks, semaphores, and condition variables are still needed to prevent data inconsistency and conflicts.'''\n",
    "\n",
    "#Fault Isolation:\n",
    "'''Multiprocessing: Each process runs in its own memory space, providing better fault isolation. If one process crashes, it usually won't affect other processes.\n",
    "Multithreading: Threads within the same process share memory, so an unhandled exception or error in one thread could potentially crash the entire process.'''"
   ]
  },
  {
   "cell_type": "code",
   "execution_count": null,
   "id": "110f6a46-7b63-4f04-a68d-e89e5f3bb9c8",
   "metadata": {},
   "outputs": [],
   "source": []
  },
  {
   "cell_type": "code",
   "execution_count": 3,
   "id": "f75c33fc-f7ba-4bcc-87ef-7bf7a502d874",
   "metadata": {},
   "outputs": [
    {
     "name": "stdout",
     "output_type": "stream",
     "text": [
      "Worker process Process-1 is executing.\n",
      "Main process is done.\n"
     ]
    }
   ],
   "source": [
    "# Queston 3:\n",
    "'''Write a python code to create a process using the multiprocessing module.'''\n",
    "# Answer:\n",
    "import multiprocessing\n",
    "\n",
    "def worker_function(name):\n",
    "    print(f\"Worker process {name} is executing.\")\n",
    "\n",
    "if __name__ == \"__main__\":\n",
    "    # Create a Process object and specify the target function and its arguments\n",
    "    process = multiprocessing.Process(target=worker_function, args=(\"Process-1\",))\n",
    "    process.start()\n",
    "    process.join()\n",
    "    print(\"Main process is done.\")"
   ]
  },
  {
   "cell_type": "code",
   "execution_count": null,
   "id": "fb774710-716a-4bf9-a563-9dab922650de",
   "metadata": {},
   "outputs": [],
   "source": []
  },
  {
   "cell_type": "code",
   "execution_count": null,
   "id": "a64f25bd-b371-4c9c-8e91-b4d1cb27aaaf",
   "metadata": {},
   "outputs": [],
   "source": [
    "# Question 4:\n",
    "'''What is a multiprocessing pool in python? Why is it used?'''\n",
    "# Answer:\n",
    "'''A multiprocessing pool in Python is a way to manage a group of worker processes that can be used to execute tasks concurrently. It's provided by the multiprocessing module and offers a high-level interface for distributing tasks across multiple processes in a controlled manner. The primary purpose of using a multiprocessing pool is to achieve parallelism and efficiently utilize the available CPU cores for processing tasks in parallel.'''\n",
    "\n",
    "# Using a multiprocessing pool:\n",
    "'''Efficient Resource Utilization: Creating and managing processes involves overhead. A pool of worker processes can help avoid this overhead by reusing existing processes, resulting in better resource utilization and reduced performance overhead.\n",
    "\n",
    "Parallel Execution: Multiprocessing pools allow multiple tasks to be executed concurrently, making them well-suited for CPU-bound tasks that can be divided into smaller chunks.\n",
    "\n",
    "Simplified Management: The pool abstracts the complexity of creating, managing, and synchronizing processes. You can focus on defining tasks and let the pool handle the process management.\n",
    "\n",
    "I/O-Bound Tasks: While multiprocessing pools are beneficial for CPU-bound tasks, they can also be useful for I/O-bound tasks. When a task is waiting for I/O (e.g., reading from a file or making network requests), other processes can continue executing, enhancing overall efficiency.'''"
   ]
  },
  {
   "cell_type": "code",
   "execution_count": null,
   "id": "9d8eda15-9ea2-48c6-8030-5a1aa6cf6dc4",
   "metadata": {},
   "outputs": [],
   "source": []
  },
  {
   "cell_type": "code",
   "execution_count": 9,
   "id": "1593397e-2357-4ac5-b096-e27cbb7b15c3",
   "metadata": {},
   "outputs": [
    {
     "name": "stdout",
     "output_type": "stream",
     "text": [
      "['Processed 1', 'Processed 2', 'Processed 3', 'Processed 4', 'Processed 5']\n"
     ]
    }
   ],
   "source": [
    "# question 5:\n",
    "'''How can we create a pool of worker processes in python using the multiprocessing module?'''\n",
    "# Answer:\n",
    "\"\"\"1. Import the multiprocessing module.\n",
    "2. Define a worker_function that takes a task as input and returns a processed result.\n",
    "3. Get the number of available CPU cores using multiprocessing.cpu_count().\n",
    "4. Create a Pool object using the Pool constructor and specify the desired number of processes using the processes parameter.\n",
    "5. Inside a with statement, the pool is managed automatically, and you can use its methods to distribute and execute tasks.\n",
    "6. Use the map() method of the pool to apply the worker_function to each task in the tasks list concurrently. The map() method returns a list of results.\n",
    "7. Finally, print the results.\"\"\"\n",
    "# Example:\n",
    "\n",
    "import multiprocessing\n",
    "def worker_function(task):\n",
    "    return f\"Processed {task}\"\n",
    "if __name__ == \"__main__\":\n",
    "    num_processes = multiprocessing.cpu_count()\n",
    "    tasks = [1, 2, 3, 4, 5]\n",
    "    with multiprocessing.Pool(processes=num_processes) as pool:\n",
    "        results = pool.map(worker_function, tasks)\n",
    "    print(results)"
   ]
  },
  {
   "cell_type": "code",
   "execution_count": null,
   "id": "d9a1a517-2530-47c4-8bab-32d0f45d576b",
   "metadata": {},
   "outputs": [],
   "source": []
  },
  {
   "cell_type": "code",
   "execution_count": 13,
   "id": "7301342d-71f0-4a38-9ef3-37f21fba12be",
   "metadata": {},
   "outputs": [
    {
     "name": "stdout",
     "output_type": "stream",
     "text": [
      "1\n",
      "2\n",
      "3\n",
      "4\n"
     ]
    }
   ],
   "source": [
    "# Questoin 6:\n",
    "'''Write a python program to create 4 processes, each process should print a different number using the\n",
    "multiprocessing module in python.'''\n",
    "# Answer: Program\n",
    "\n",
    "import multiprocessing\n",
    "def print_number(number):\n",
    "  \"\"\"Prints the given number.\"\"\"\n",
    "  print(number)\n",
    "if __name__ == \"__main__\":\n",
    "  processes = []\n",
    "  for i in range(1, 5):\n",
    "    process = multiprocessing.Process(target=print_number, args=(i,))\n",
    "    processes.append(process)\n",
    "  for process in processes:\n",
    "    process.start()\n",
    "  for process in processes:\n",
    "    process.join()"
   ]
  },
  {
   "cell_type": "code",
   "execution_count": null,
   "id": "7dc85d00-a396-4908-99a6-3123e502558c",
   "metadata": {},
   "outputs": [],
   "source": []
  }
 ],
 "metadata": {
  "kernelspec": {
   "display_name": "Python 3 (ipykernel)",
   "language": "python",
   "name": "python3"
  },
  "language_info": {
   "codemirror_mode": {
    "name": "ipython",
    "version": 3
   },
   "file_extension": ".py",
   "mimetype": "text/x-python",
   "name": "python",
   "nbconvert_exporter": "python",
   "pygments_lexer": "ipython3",
   "version": "3.10.8"
  }
 },
 "nbformat": 4,
 "nbformat_minor": 5
}
